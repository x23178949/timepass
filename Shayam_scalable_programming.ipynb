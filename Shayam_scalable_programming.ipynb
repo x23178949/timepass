{
 "cells": [
  {
   "cell_type": "code",
   "execution_count": 1,
   "id": "661fd665-7fb6-400f-b22b-9cee4cfb98bd",
   "metadata": {},
   "outputs": [
    {
     "name": "stderr",
     "output_type": "stream",
     "text": [
      "24/07/29 14:59:23 WARN SparkSession: Using an existing Spark session; only runtime SQL configurations will take effect.\n"
     ]
    }
   ],
   "source": [
    "\"\"\"\n",
    "Module Name: Scalable Programming\n",
    "Description: This file is to perform computations of dataset using Apache Spark.\n",
    "Author: Shayam Shah\n",
    "Date: 2024-07-29\n",
    "\"\"\"\n",
    "\n",
    "# This code cell is used to import all the dependencis that are used throughout the code\n",
    "from pyspark.sql import SparkSession\n",
    "from pyspark.sql.functions import concat_ws, col, dayofweek, from_unixtime, lower, to_timestamp, to_date, date_format, avg, count\n",
    "session = SparkSession.builder.appName('BGL_Analysis').getOrCreate()"
   ]
  },
  {
   "cell_type": "code",
   "execution_count": 3,
   "id": "ccb424d4-99c1-48db-b87b-b34f520a87a4",
   "metadata": {},
   "outputs": [
    {
     "name": "stderr",
     "output_type": "stream",
     "text": [
      "                                                                                \r"
     ]
    }
   ],
   "source": [
    "# This code cell is used to load the dataset in the DataFrame\n",
    "dataset_path = \"/home/hduser/notebooks/BGL.log\"\n",
    "df = spark.read.option(\"header\", \"false\").csv(dataset_path, sep=\" \")"
   ]
  },
  {
   "cell_type": "code",
   "execution_count": 4,
   "id": "d07a3c45-40af-46e7-a9e4-dc56462697ee",
   "metadata": {},
   "outputs": [],
   "source": [
    "df = df.withColumnRenamed('_c0', 'alert_flag') \\\n",
    "       .withColumnRenamed('_c1', 'timestamp') \\\n",
    "       .withColumnRenamed('_c2', 'date') \\\n",
    "       .withColumnRenamed('_c3', 'node') \\\n",
    "       .withColumnRenamed('_c4', 'date_time') \\\n",
    "       .withColumnRenamed('_c5', 'node_repeated') \\\n",
    "       .withColumnRenamed('_c6', 'message_type') \\\n",
    "       .withColumnRenamed('_c7', 'system_component') \\\n",
    "       .withColumnRenamed('_c8', 'level') \\\n",
    "       .withColumn('message_content', concat_ws(' ', col('_c9'), col('_c10'), col('_c11'), col('_c12'), col('_c13'))) \\\n",
    "       .withColumn('date', to_date(col('date'), 'yyyy.MM.dd')) \\\n",
    "       .withColumn('day_of_week', dayofweek(col('date')))"
   ]
  },
  {
   "cell_type": "code",
   "execution_count": 5,
   "id": "07f1fb75-3526-40d1-b614-71263cd0e849",
   "metadata": {
    "scrolled": true
   },
   "outputs": [
    {
     "name": "stdout",
     "output_type": "stream",
     "text": [
      "root\n",
      " |-- alert_flag: string (nullable = true)\n",
      " |-- timestamp: string (nullable = true)\n",
      " |-- date: date (nullable = true)\n",
      " |-- node: string (nullable = true)\n",
      " |-- date_time: string (nullable = true)\n",
      " |-- node_repeated: string (nullable = true)\n",
      " |-- message_type: string (nullable = true)\n",
      " |-- system_component: string (nullable = true)\n",
      " |-- level: string (nullable = true)\n",
      " |-- _c9: string (nullable = true)\n",
      " |-- _c10: string (nullable = true)\n",
      " |-- _c11: string (nullable = true)\n",
      " |-- _c12: string (nullable = true)\n",
      " |-- _c13: string (nullable = true)\n",
      " |-- message_content: string (nullable = false)\n",
      " |-- day_of_week: integer (nullable = true)\n",
      "\n"
     ]
    }
   ],
   "source": [
    "#This piece of code is used to print the schema of the dataset\n",
    "df.printSchema()"
   ]
  },
  {
   "cell_type": "code",
   "execution_count": 6,
   "id": "582175c2-b1f7-42e0-b382-b645ec1def9a",
   "metadata": {},
   "outputs": [],
   "source": [
    "#This code snippet is used to remove the unwanted columns from the dataset\n",
    "columns_to_drop = [\"_c9\", \"_c10\", \"_c11\", \"_c12\", \"_c13\"]\n",
    "correct_dataframe = df.drop(*columns_to_drop)"
   ]
  },
  {
   "cell_type": "code",
   "execution_count": 7,
   "id": "9f98a5c8-5048-461e-9928-f5ee19fe8a6a",
   "metadata": {},
   "outputs": [
    {
     "name": "stdout",
     "output_type": "stream",
     "text": [
      "Below are the instances as per the filteration\n"
     ]
    },
    {
     "name": "stderr",
     "output_type": "stream",
     "text": [
      "                                                                                \r"
     ]
    },
    {
     "name": "stdout",
     "output_type": "stream",
     "text": [
      "+----------+----------+----------+-------------------+--------------------+-------------------+------------+----------------+-----+---------------+-----------+\n",
      "|alert_flag| timestamp|      date|               node|           date_time|      node_repeated|message_type|system_component|level|message_content|day_of_week|\n",
      "+----------+----------+----------+-------------------+--------------------+-------------------+------------+----------------+-----+---------------+-----------+\n",
      "|   KERNPAN|1124484960|2005-08-19|R43-M0-NC-I:J18-U01|2005-08-19-13.56....|R43-M0-NC-I:J18-U01|         RAS|          KERNEL|FATAL|   kernel panic|          6|\n",
      "|   KERNPAN|1124484960|2005-08-19|R43-M0-N8-I:J18-U11|2005-08-19-13.56....|R43-M0-N8-I:J18-U11|         RAS|          KERNEL|FATAL|   kernel panic|          6|\n",
      "|   KERNPAN|1126306502|2005-09-09|R05-M1-N4-I:J18-U11|2005-09-09-15.55....|R05-M1-N4-I:J18-U11|         RAS|          KERNEL|FATAL|   kernel panic|          6|\n",
      "|   KERNPAN|1128113240|2005-09-30|R22-M0-NC-I:J18-U11|2005-09-30-13.47....|R22-M0-NC-I:J18-U11|         RAS|          KERNEL|FATAL|   kernel panic|          6|\n",
      "|   KERNPAN|1131213796|2005-11-05|R33-M0-N0-I:J18-U11|2005-11-05-10.03....|R33-M0-N0-I:J18-U11|         RAS|          KERNEL|FATAL|   kernel panic|          7|\n",
      "|   KERNPAN|1131745871|2005-11-11|R46-M1-N0-I:J18-U11|2005-11-11-13.51....|R46-M1-N0-I:J18-U11|         RAS|          KERNEL|FATAL|   kernel panic|          6|\n",
      "+----------+----------+----------+-------------------+--------------------+-------------------+------------+----------------+-----+---------------+-----------+\n",
      "\n",
      "The count of the data\n"
     ]
    },
    {
     "name": "stderr",
     "output_type": "stream",
     "text": [
      "                                                                                \r"
     ]
    },
    {
     "data": {
      "text/plain": [
       "6"
      ]
     },
     "execution_count": 7,
     "metadata": {},
     "output_type": "execute_result"
    }
   ],
   "source": [
    "# Filter for kernel panic messages on Friday or Saturday\n",
    "fri_sat_panic= df.drop(*columns_to_drop).filter((col('message_content') == 'kernel panic') &\n",
    "                        ((col('day_of_week') == 6) | (col('day_of_week') == 7)))\n",
    "\n",
    "print(\"Below are the instances as per the filteration\")\n",
    "fri_sat_panic.show()\n",
    "print(\"The count of the data\")\n",
    "fri_sat_panic.count()"
   ]
  },
  {
   "cell_type": "code",
   "execution_count": 19,
   "id": "aa580102-82ab-4f12-bd77-dd656ae7cc30",
   "metadata": {},
   "outputs": [
    {
     "name": "stderr",
     "output_type": "stream",
     "text": [
      "[Stage 19:================================================>         (5 + 1) / 6]\r"
     ]
    },
    {
     "name": "stdout",
     "output_type": "stream",
     "text": [
      "+-----------+--------------------+\n",
      "|day_of_week|     average_seconds|\n",
      "+-----------+--------------------+\n",
      "|          1|1.1295884162542372E9|\n",
      "|          6| 1.126602118937799E9|\n",
      "|          3| 1.129997737671875E9|\n",
      "|          5|1.1304924833903227E9|\n",
      "|          4|1.1224597884473684E9|\n",
      "|          7|1.1294064528880596E9|\n",
      "|          2|1.1244554479086537E9|\n",
      "+-----------+--------------------+\n",
      "\n"
     ]
    },
    {
     "name": "stderr",
     "output_type": "stream",
     "text": [
      "                                                                                \r"
     ]
    }
   ],
   "source": [
    "#This code snippet is used to filter the message content\n",
    "filtered_df = df.filter(col(\"message_content\").contains(\"torus receiver z+ input\"))\n",
    "\n",
    "# Group by day_of_week and calculate the average number of seconds\n",
    "result_df = filtered_df.groupBy(\"day_of_week\").agg(avg(\"timestamp\").alias(\"average_seconds\"))\n",
    "\n",
    "# Show the result\n",
    "result_df.show()\n"
   ]
  },
  {
   "cell_type": "code",
   "execution_count": 22,
   "id": "b4e26cb6-a69d-4074-b986-51cfc3555593",
   "metadata": {},
   "outputs": [
    {
     "name": "stderr",
     "output_type": "stream",
     "text": [
      "[Stage 22:================================================>         (5 + 1) / 6]\r"
     ]
    },
    {
     "name": "stdout",
     "output_type": "stream",
     "text": [
      "+-------------------+------+\n",
      "|node               |count |\n",
      "+-------------------+------+\n",
      "|R30-M0-N9-C:J16-U01|152329|\n",
      "|NULL               |89296 |\n",
      "|R02-M1-N0-C:J12-U11|64651 |\n",
      "|R37-M1-NC-C:J02-U11|35288 |\n",
      "|UNKNOWN_LOCATION   |27039 |\n",
      "+-------------------+------+\n",
      "\n"
     ]
    },
    {
     "name": "stderr",
     "output_type": "stream",
     "text": [
      "                                                                                \r"
     ]
    }
   ],
   "source": [
    "# Order by count in descending order and select top 5\n",
    "node_counts = df_dropped.groupBy(\"node\").agg(count(\"node\").alias(\"count\"))\n",
    "top_nodes = node_counts.orderBy(col(\"count\").desc()).limit(5)\n",
    "\n",
    "# Show the results\n",
    "top_nodes.show(truncate=False)"
   ]
  },
  {
   "cell_type": "code",
   "execution_count": 37,
   "id": "c3fcf498-1418-4de6-92e2-9bea1a7afa28",
   "metadata": {},
   "outputs": [
    {
     "name": "stderr",
     "output_type": "stream",
     "text": [
      "[Stage 54:================================================>         (5 + 1) / 6]\r"
     ]
    },
    {
     "name": "stdout",
     "output_type": "stream",
     "text": [
      "+-------------------+-----+\n",
      "|               node|count|\n",
      "+-------------------+-----+\n",
      "|R15-M1-N0-I:J18-U11|    1|\n",
      "+-------------------+-----+\n",
      "\n"
     ]
    },
    {
     "name": "stderr",
     "output_type": "stream",
     "text": [
      "                                                                                \r"
     ]
    }
   ],
   "source": [
    "# Filter rows where alert_flag is \"APPBUSY\" and count occurrences of each node\n",
    "appbusy_counts = df.filter(col(\"alert_flag\") == \"APPBUSY\") \\\n",
    "    .groupBy(\"node\") \\\n",
    "    .agg(count(\"*\").alias(\"count\")) \\\n",
    "    .orderBy(\"count\") \\\n",
    "    .limit(1)\n",
    "\n",
    "# Show the result\n",
    "appbusy_counts.show()"
   ]
  },
  {
   "cell_type": "code",
   "execution_count": 38,
   "id": "1cc66271-dd60-4a99-a3a7-619e9d95de47",
   "metadata": {},
   "outputs": [
    {
     "name": "stderr",
     "output_type": "stream",
     "text": [
      "                                                                                \r"
     ]
    },
    {
     "name": "stdout",
     "output_type": "stream",
     "text": [
      "Earliest fatal kernel error where the message contains 'Lustre mount FAILED':\n",
      "Date: 2005-08-03\n",
      "Time: 2005-08-03-15.35.34.555500\n"
     ]
    }
   ],
   "source": [
    "# Get the earliest occurrence based on timestamp\n",
    "filtered_df = df.filter(\n",
    "    (col(\"system_component\") == \"KERNEL\") &\n",
    "    (col(\"level\") == \"FATAL\") &\n",
    "    (col(\"message_content\").contains(\"Lustre mount FAILED\"))\n",
    ")\n",
    "\n",
    "earliest_error = filtered_df.orderBy(col(\"timestamp\")).first()\n",
    "\n",
    "# Show the result\n",
    "if earliest_error:\n",
    "    print(f\"Earliest fatal kernel error where the message contains 'Lustre mount FAILED':\")\n",
    "    print(f\"Date: {earliest_error['date']}\")\n",
    "    print(f\"Time: {earliest_error['date_time']}\")\n",
    "else:\n",
    "    print(\"No fatal kernel errors found with message 'Lustre mount FAILED'.\")"
   ]
  },
  {
   "cell_type": "code",
   "execution_count": null,
   "id": "fb7e9c46-559a-4bd2-9a23-bae150a9e6bc",
   "metadata": {},
   "outputs": [],
   "source": []
  }
 ],
 "metadata": {
  "kernelspec": {
   "display_name": "Python 3 (ipykernel)",
   "language": "python",
   "name": "python3"
  },
  "language_info": {
   "codemirror_mode": {
    "name": "ipython",
    "version": 3
   },
   "file_extension": ".py",
   "mimetype": "text/x-python",
   "name": "python",
   "nbconvert_exporter": "python",
   "pygments_lexer": "ipython3",
   "version": "3.10.12"
  }
 },
 "nbformat": 4,
 "nbformat_minor": 5
}
